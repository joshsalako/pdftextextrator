{
 "cells": [
  {
   "cell_type": "code",
   "execution_count": 1,
   "id": "6a7148fe",
   "metadata": {},
   "outputs": [],
   "source": [
    "import PyPDF2"
   ]
  },
  {
   "cell_type": "code",
   "execution_count": 2,
   "id": "7cac7b98",
   "metadata": {},
   "outputs": [
    {
     "name": "stdout",
     "output_type": "stream",
     "text": [
      "Enter path to pdf file:rrr.pdf\n"
     ]
    }
   ],
   "source": [
    "path = input('Enter path to pdf file:')\n",
    "pdffileobj = open(path, 'rb')"
   ]
  },
  {
   "cell_type": "code",
   "execution_count": 3,
   "id": "cc786f01",
   "metadata": {},
   "outputs": [],
   "source": [
    "pdfreader = PyPDF2.PdfFileReader(pdffileobj)"
   ]
  },
  {
   "cell_type": "code",
   "execution_count": 5,
   "id": "813bbbb2",
   "metadata": {},
   "outputs": [
    {
     "name": "stdout",
     "output_type": "stream",
     "text": [
      "Number of pdf pages is: 1\n"
     ]
    }
   ],
   "source": [
    "print('Number of pdf pages is: ' + str(pdfreader.numPages))"
   ]
  },
  {
   "cell_type": "code",
   "execution_count": 6,
   "id": "d3a34e5f",
   "metadata": {},
   "outputs": [
    {
     "name": "stdout",
     "output_type": "stream",
     "text": [
      "Enter page number to get text from:1\n",
      "FEDERAL UNIVERSITY OF AGRICULTURE, ABEOKUTA (FUNAAB)1504-7822-7727Generated on 10/04/2021Payment ReceiptRemita Retrieval Reference (RRR)FEDERAL UNIVERSITY OF AGRICULTURE, ABEOKUTA (FUNAAB)PAYER INFORMATIONNAMEOGUEJIOFOR  OGOCHUKWUEMAILoguejiofor2000@yahoo.comPHONE NUMBER07081197224PAYMENT DETAILSPAYMENTDATEPAYMENTREFSERVICEDESCRIPTIONAMOUNT(NGN)CHARGE(NGN)(NGN)VAT onChargesTOTAL(NGN)10/04/2021150478227727ADMISSIONAPPLICATION -UNDERGRADUATE1,200.00156.0011.701,367.70TOTAL PAID1,200.00156.0011.701,367.70BALANCE DUETOTAL AMOUNT1,367.700.00BILLER-REQUIRED INFORMATIONPAYMENT CHANNEL INFORMATIONPAYMENT CHANNELAUTHORIZATION REF.CARD PAYMENT  7497193030 -\n"
     ]
    }
   ],
   "source": [
    "#creating a page object to generate its text\n",
    "pagenum = input('Enter page number to get text from:')\n",
    "pagenum = int(pagenum)-1\n",
    "pageobj = pdfreader.getPage(pagenum)\n",
    "print(pageobj.extractText())"
   ]
  },
  {
   "cell_type": "code",
   "execution_count": 10,
   "id": "64191bd8",
   "metadata": {},
   "outputs": [],
   "source": [
    "#closing file object\n",
    "pdffileobj.close()"
   ]
  },
  {
   "cell_type": "code",
   "execution_count": null,
   "id": "71b73c4c",
   "metadata": {},
   "outputs": [],
   "source": []
  }
 ],
 "metadata": {
  "kernelspec": {
   "display_name": "Python 3 (ipykernel)",
   "language": "python",
   "name": "python3"
  },
  "language_info": {
   "codemirror_mode": {
    "name": "ipython",
    "version": 3
   },
   "file_extension": ".py",
   "mimetype": "text/x-python",
   "name": "python",
   "nbconvert_exporter": "python",
   "pygments_lexer": "ipython3",
   "version": "3.8.12"
  }
 },
 "nbformat": 4,
 "nbformat_minor": 5
}
